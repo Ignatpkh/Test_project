{
 "cells": [
  {
   "cell_type": "markdown",
   "id": "c8648720",
   "metadata": {},
   "source": [
    "Игнат Поух"
   ]
  },
  {
   "cell_type": "code",
   "execution_count": 3,
   "id": "affe9e7c",
   "metadata": {},
   "outputs": [],
   "source": [
    "import pandas as pd\n",
    "import numpy as np\n",
    "import matplotlib.pyplot as plt\n",
    "import seaborn as sns\n",
    "from scipy.stats import kurtosis\n",
    "from scipy.stats import skew\n",
    "from scipy import stats\n",
    "import scipy.special as sps\n",
    "import warnings"
   ]
  },
  {
   "cell_type": "code",
   "execution_count": 4,
   "id": "337972f5",
   "metadata": {},
   "outputs": [],
   "source": [
    "df = pd.read_excel('price.xlsx')"
   ]
  },
  {
   "cell_type": "code",
   "execution_count": 5,
   "id": "9985f6ce",
   "metadata": {},
   "outputs": [
    {
     "data": {
      "text/html": [
       "<div>\n",
       "<style scoped>\n",
       "    .dataframe tbody tr th:only-of-type {\n",
       "        vertical-align: middle;\n",
       "    }\n",
       "\n",
       "    .dataframe tbody tr th {\n",
       "        vertical-align: top;\n",
       "    }\n",
       "\n",
       "    .dataframe thead th {\n",
       "        text-align: right;\n",
       "    }\n",
       "</style>\n",
       "<table border=\"1\" class=\"dataframe\">\n",
       "  <thead>\n",
       "    <tr style=\"text-align: right;\">\n",
       "      <th></th>\n",
       "      <th>unnamed: 0</th>\n",
       "      <th>crim</th>\n",
       "      <th>zn</th>\n",
       "      <th>indus</th>\n",
       "      <th>chas</th>\n",
       "      <th>nox</th>\n",
       "      <th>rm</th>\n",
       "      <th>age</th>\n",
       "      <th>dis</th>\n",
       "      <th>rad</th>\n",
       "      <th>tax</th>\n",
       "      <th>ptratio</th>\n",
       "      <th>b</th>\n",
       "      <th>lstat</th>\n",
       "      <th>price</th>\n",
       "    </tr>\n",
       "  </thead>\n",
       "  <tbody>\n",
       "    <tr>\n",
       "      <th>0</th>\n",
       "      <td>0</td>\n",
       "      <td>0.00632</td>\n",
       "      <td>18.0</td>\n",
       "      <td>2.31</td>\n",
       "      <td>0</td>\n",
       "      <td>0.538</td>\n",
       "      <td>6.575</td>\n",
       "      <td>65.2</td>\n",
       "      <td>4.0900</td>\n",
       "      <td>1</td>\n",
       "      <td>296</td>\n",
       "      <td>15.3</td>\n",
       "      <td>396.9</td>\n",
       "      <td>4.98</td>\n",
       "      <td>24.0</td>\n",
       "    </tr>\n",
       "    <tr>\n",
       "      <th>1</th>\n",
       "      <td>1</td>\n",
       "      <td>0.02731</td>\n",
       "      <td>0.0</td>\n",
       "      <td>7.07</td>\n",
       "      <td>0</td>\n",
       "      <td>0.469</td>\n",
       "      <td>6.421</td>\n",
       "      <td>78.9</td>\n",
       "      <td>4.9671</td>\n",
       "      <td>2</td>\n",
       "      <td>242</td>\n",
       "      <td>17.8</td>\n",
       "      <td>396.9</td>\n",
       "      <td>9.14</td>\n",
       "      <td>21.6</td>\n",
       "    </tr>\n",
       "  </tbody>\n",
       "</table>\n",
       "</div>"
      ],
      "text/plain": [
       "   unnamed: 0     crim    zn  indus  chas    nox     rm   age     dis  rad  \\\n",
       "0           0  0.00632  18.0   2.31     0  0.538  6.575  65.2  4.0900    1   \n",
       "1           1  0.02731   0.0   7.07     0  0.469  6.421  78.9  4.9671    2   \n",
       "\n",
       "   tax  ptratio      b  lstat  price  \n",
       "0  296     15.3  396.9   4.98   24.0  \n",
       "1  242     17.8  396.9   9.14   21.6  "
      ]
     },
     "execution_count": 5,
     "metadata": {},
     "output_type": "execute_result"
    }
   ],
   "source": [
    "#Переведем загловки столбцов в нижний регистр и посмотрим на данные\n",
    "\n",
    "df.columns = map(str.lower, df.columns)\n",
    "df.head(2)"
   ]
  },
  {
   "cell_type": "markdown",
   "id": "b2377c2d",
   "metadata": {},
   "source": [
    "#### 1. Построить корреляционную матрицу, выбрать факторы, которые в большей степени связаны с ценой"
   ]
  },
  {
   "cell_type": "code",
   "execution_count": 6,
   "id": "68ff6fdf",
   "metadata": {},
   "outputs": [
    {
     "data": {
      "text/plain": [
       "Index(['crim', 'zn', 'indus', 'chas', 'nox', 'rm', 'age', 'dis', 'rad', 'tax',\n",
       "       'ptratio', 'b', 'lstat', 'price'],\n",
       "      dtype='object')"
      ]
     },
     "execution_count": 6,
     "metadata": {},
     "output_type": "execute_result"
    }
   ],
   "source": [
    "#Отбираем все колонки, кроме первой\n",
    "\n",
    "list = df.columns[1:]\n",
    "list"
   ]
  },
  {
   "cell_type": "code",
   "execution_count": 7,
   "id": "50604675",
   "metadata": {
    "scrolled": true
   },
   "outputs": [
    {
     "data": {
      "text/html": [
       "<div>\n",
       "<style scoped>\n",
       "    .dataframe tbody tr th:only-of-type {\n",
       "        vertical-align: middle;\n",
       "    }\n",
       "\n",
       "    .dataframe tbody tr th {\n",
       "        vertical-align: top;\n",
       "    }\n",
       "\n",
       "    .dataframe thead th {\n",
       "        text-align: right;\n",
       "    }\n",
       "</style>\n",
       "<table border=\"1\" class=\"dataframe\">\n",
       "  <thead>\n",
       "    <tr style=\"text-align: right;\">\n",
       "      <th></th>\n",
       "      <th>crim</th>\n",
       "      <th>zn</th>\n",
       "      <th>indus</th>\n",
       "      <th>chas</th>\n",
       "      <th>nox</th>\n",
       "      <th>rm</th>\n",
       "      <th>age</th>\n",
       "      <th>dis</th>\n",
       "      <th>rad</th>\n",
       "      <th>tax</th>\n",
       "      <th>ptratio</th>\n",
       "      <th>b</th>\n",
       "      <th>lstat</th>\n",
       "      <th>price</th>\n",
       "    </tr>\n",
       "  </thead>\n",
       "  <tbody>\n",
       "    <tr>\n",
       "      <th>crim</th>\n",
       "      <td>1.000000</td>\n",
       "      <td>-0.200469</td>\n",
       "      <td>0.406583</td>\n",
       "      <td>-0.055892</td>\n",
       "      <td>0.420972</td>\n",
       "      <td>-0.219247</td>\n",
       "      <td>0.352734</td>\n",
       "      <td>-0.379670</td>\n",
       "      <td>0.625505</td>\n",
       "      <td>0.582764</td>\n",
       "      <td>0.289946</td>\n",
       "      <td>-0.385064</td>\n",
       "      <td>0.455621</td>\n",
       "      <td>-0.388305</td>\n",
       "    </tr>\n",
       "    <tr>\n",
       "      <th>zn</th>\n",
       "      <td>-0.200469</td>\n",
       "      <td>1.000000</td>\n",
       "      <td>-0.533828</td>\n",
       "      <td>-0.042697</td>\n",
       "      <td>-0.516604</td>\n",
       "      <td>0.311991</td>\n",
       "      <td>-0.569537</td>\n",
       "      <td>0.664408</td>\n",
       "      <td>-0.311948</td>\n",
       "      <td>-0.314563</td>\n",
       "      <td>-0.391679</td>\n",
       "      <td>0.175520</td>\n",
       "      <td>-0.412995</td>\n",
       "      <td>0.360445</td>\n",
       "    </tr>\n",
       "    <tr>\n",
       "      <th>indus</th>\n",
       "      <td>0.406583</td>\n",
       "      <td>-0.533828</td>\n",
       "      <td>1.000000</td>\n",
       "      <td>0.062938</td>\n",
       "      <td>0.763651</td>\n",
       "      <td>-0.391676</td>\n",
       "      <td>0.644779</td>\n",
       "      <td>-0.708027</td>\n",
       "      <td>0.595129</td>\n",
       "      <td>0.720760</td>\n",
       "      <td>0.383248</td>\n",
       "      <td>-0.356977</td>\n",
       "      <td>0.603800</td>\n",
       "      <td>-0.483725</td>\n",
       "    </tr>\n",
       "    <tr>\n",
       "      <th>chas</th>\n",
       "      <td>-0.055892</td>\n",
       "      <td>-0.042697</td>\n",
       "      <td>0.062938</td>\n",
       "      <td>1.000000</td>\n",
       "      <td>0.091203</td>\n",
       "      <td>0.091251</td>\n",
       "      <td>0.086518</td>\n",
       "      <td>-0.099176</td>\n",
       "      <td>-0.007368</td>\n",
       "      <td>-0.035587</td>\n",
       "      <td>-0.121515</td>\n",
       "      <td>0.048788</td>\n",
       "      <td>-0.053929</td>\n",
       "      <td>0.175260</td>\n",
       "    </tr>\n",
       "    <tr>\n",
       "      <th>nox</th>\n",
       "      <td>0.420972</td>\n",
       "      <td>-0.516604</td>\n",
       "      <td>0.763651</td>\n",
       "      <td>0.091203</td>\n",
       "      <td>1.000000</td>\n",
       "      <td>-0.302188</td>\n",
       "      <td>0.731470</td>\n",
       "      <td>-0.769230</td>\n",
       "      <td>0.611441</td>\n",
       "      <td>0.668023</td>\n",
       "      <td>0.188933</td>\n",
       "      <td>-0.380051</td>\n",
       "      <td>0.590879</td>\n",
       "      <td>-0.427321</td>\n",
       "    </tr>\n",
       "    <tr>\n",
       "      <th>rm</th>\n",
       "      <td>-0.219247</td>\n",
       "      <td>0.311991</td>\n",
       "      <td>-0.391676</td>\n",
       "      <td>0.091251</td>\n",
       "      <td>-0.302188</td>\n",
       "      <td>1.000000</td>\n",
       "      <td>-0.240265</td>\n",
       "      <td>0.205246</td>\n",
       "      <td>-0.209847</td>\n",
       "      <td>-0.292048</td>\n",
       "      <td>-0.355501</td>\n",
       "      <td>0.128069</td>\n",
       "      <td>-0.613808</td>\n",
       "      <td>0.695360</td>\n",
       "    </tr>\n",
       "    <tr>\n",
       "      <th>age</th>\n",
       "      <td>0.352734</td>\n",
       "      <td>-0.569537</td>\n",
       "      <td>0.644779</td>\n",
       "      <td>0.086518</td>\n",
       "      <td>0.731470</td>\n",
       "      <td>-0.240265</td>\n",
       "      <td>1.000000</td>\n",
       "      <td>-0.747881</td>\n",
       "      <td>0.456022</td>\n",
       "      <td>0.506456</td>\n",
       "      <td>0.261515</td>\n",
       "      <td>-0.273534</td>\n",
       "      <td>0.602339</td>\n",
       "      <td>-0.376955</td>\n",
       "    </tr>\n",
       "    <tr>\n",
       "      <th>dis</th>\n",
       "      <td>-0.379670</td>\n",
       "      <td>0.664408</td>\n",
       "      <td>-0.708027</td>\n",
       "      <td>-0.099176</td>\n",
       "      <td>-0.769230</td>\n",
       "      <td>0.205246</td>\n",
       "      <td>-0.747881</td>\n",
       "      <td>1.000000</td>\n",
       "      <td>-0.494588</td>\n",
       "      <td>-0.534432</td>\n",
       "      <td>-0.232471</td>\n",
       "      <td>0.291512</td>\n",
       "      <td>-0.496996</td>\n",
       "      <td>0.249929</td>\n",
       "    </tr>\n",
       "    <tr>\n",
       "      <th>rad</th>\n",
       "      <td>0.625505</td>\n",
       "      <td>-0.311948</td>\n",
       "      <td>0.595129</td>\n",
       "      <td>-0.007368</td>\n",
       "      <td>0.611441</td>\n",
       "      <td>-0.209847</td>\n",
       "      <td>0.456022</td>\n",
       "      <td>-0.494588</td>\n",
       "      <td>1.000000</td>\n",
       "      <td>0.910228</td>\n",
       "      <td>0.464741</td>\n",
       "      <td>-0.444413</td>\n",
       "      <td>0.488676</td>\n",
       "      <td>-0.381626</td>\n",
       "    </tr>\n",
       "    <tr>\n",
       "      <th>tax</th>\n",
       "      <td>0.582764</td>\n",
       "      <td>-0.314563</td>\n",
       "      <td>0.720760</td>\n",
       "      <td>-0.035587</td>\n",
       "      <td>0.668023</td>\n",
       "      <td>-0.292048</td>\n",
       "      <td>0.506456</td>\n",
       "      <td>-0.534432</td>\n",
       "      <td>0.910228</td>\n",
       "      <td>1.000000</td>\n",
       "      <td>0.460853</td>\n",
       "      <td>-0.441808</td>\n",
       "      <td>0.543993</td>\n",
       "      <td>-0.468536</td>\n",
       "    </tr>\n",
       "    <tr>\n",
       "      <th>ptratio</th>\n",
       "      <td>0.289946</td>\n",
       "      <td>-0.391679</td>\n",
       "      <td>0.383248</td>\n",
       "      <td>-0.121515</td>\n",
       "      <td>0.188933</td>\n",
       "      <td>-0.355501</td>\n",
       "      <td>0.261515</td>\n",
       "      <td>-0.232471</td>\n",
       "      <td>0.464741</td>\n",
       "      <td>0.460853</td>\n",
       "      <td>1.000000</td>\n",
       "      <td>-0.177383</td>\n",
       "      <td>0.374044</td>\n",
       "      <td>-0.507787</td>\n",
       "    </tr>\n",
       "    <tr>\n",
       "      <th>b</th>\n",
       "      <td>-0.385064</td>\n",
       "      <td>0.175520</td>\n",
       "      <td>-0.356977</td>\n",
       "      <td>0.048788</td>\n",
       "      <td>-0.380051</td>\n",
       "      <td>0.128069</td>\n",
       "      <td>-0.273534</td>\n",
       "      <td>0.291512</td>\n",
       "      <td>-0.444413</td>\n",
       "      <td>-0.441808</td>\n",
       "      <td>-0.177383</td>\n",
       "      <td>1.000000</td>\n",
       "      <td>-0.366087</td>\n",
       "      <td>0.333461</td>\n",
       "    </tr>\n",
       "    <tr>\n",
       "      <th>lstat</th>\n",
       "      <td>0.455621</td>\n",
       "      <td>-0.412995</td>\n",
       "      <td>0.603800</td>\n",
       "      <td>-0.053929</td>\n",
       "      <td>0.590879</td>\n",
       "      <td>-0.613808</td>\n",
       "      <td>0.602339</td>\n",
       "      <td>-0.496996</td>\n",
       "      <td>0.488676</td>\n",
       "      <td>0.543993</td>\n",
       "      <td>0.374044</td>\n",
       "      <td>-0.366087</td>\n",
       "      <td>1.000000</td>\n",
       "      <td>-0.737663</td>\n",
       "    </tr>\n",
       "    <tr>\n",
       "      <th>price</th>\n",
       "      <td>-0.388305</td>\n",
       "      <td>0.360445</td>\n",
       "      <td>-0.483725</td>\n",
       "      <td>0.175260</td>\n",
       "      <td>-0.427321</td>\n",
       "      <td>0.695360</td>\n",
       "      <td>-0.376955</td>\n",
       "      <td>0.249929</td>\n",
       "      <td>-0.381626</td>\n",
       "      <td>-0.468536</td>\n",
       "      <td>-0.507787</td>\n",
       "      <td>0.333461</td>\n",
       "      <td>-0.737663</td>\n",
       "      <td>1.000000</td>\n",
       "    </tr>\n",
       "  </tbody>\n",
       "</table>\n",
       "</div>"
      ],
      "text/plain": [
       "             crim        zn     indus      chas       nox        rm       age  \\\n",
       "crim     1.000000 -0.200469  0.406583 -0.055892  0.420972 -0.219247  0.352734   \n",
       "zn      -0.200469  1.000000 -0.533828 -0.042697 -0.516604  0.311991 -0.569537   \n",
       "indus    0.406583 -0.533828  1.000000  0.062938  0.763651 -0.391676  0.644779   \n",
       "chas    -0.055892 -0.042697  0.062938  1.000000  0.091203  0.091251  0.086518   \n",
       "nox      0.420972 -0.516604  0.763651  0.091203  1.000000 -0.302188  0.731470   \n",
       "rm      -0.219247  0.311991 -0.391676  0.091251 -0.302188  1.000000 -0.240265   \n",
       "age      0.352734 -0.569537  0.644779  0.086518  0.731470 -0.240265  1.000000   \n",
       "dis     -0.379670  0.664408 -0.708027 -0.099176 -0.769230  0.205246 -0.747881   \n",
       "rad      0.625505 -0.311948  0.595129 -0.007368  0.611441 -0.209847  0.456022   \n",
       "tax      0.582764 -0.314563  0.720760 -0.035587  0.668023 -0.292048  0.506456   \n",
       "ptratio  0.289946 -0.391679  0.383248 -0.121515  0.188933 -0.355501  0.261515   \n",
       "b       -0.385064  0.175520 -0.356977  0.048788 -0.380051  0.128069 -0.273534   \n",
       "lstat    0.455621 -0.412995  0.603800 -0.053929  0.590879 -0.613808  0.602339   \n",
       "price   -0.388305  0.360445 -0.483725  0.175260 -0.427321  0.695360 -0.376955   \n",
       "\n",
       "              dis       rad       tax   ptratio         b     lstat     price  \n",
       "crim    -0.379670  0.625505  0.582764  0.289946 -0.385064  0.455621 -0.388305  \n",
       "zn       0.664408 -0.311948 -0.314563 -0.391679  0.175520 -0.412995  0.360445  \n",
       "indus   -0.708027  0.595129  0.720760  0.383248 -0.356977  0.603800 -0.483725  \n",
       "chas    -0.099176 -0.007368 -0.035587 -0.121515  0.048788 -0.053929  0.175260  \n",
       "nox     -0.769230  0.611441  0.668023  0.188933 -0.380051  0.590879 -0.427321  \n",
       "rm       0.205246 -0.209847 -0.292048 -0.355501  0.128069 -0.613808  0.695360  \n",
       "age     -0.747881  0.456022  0.506456  0.261515 -0.273534  0.602339 -0.376955  \n",
       "dis      1.000000 -0.494588 -0.534432 -0.232471  0.291512 -0.496996  0.249929  \n",
       "rad     -0.494588  1.000000  0.910228  0.464741 -0.444413  0.488676 -0.381626  \n",
       "tax     -0.534432  0.910228  1.000000  0.460853 -0.441808  0.543993 -0.468536  \n",
       "ptratio -0.232471  0.464741  0.460853  1.000000 -0.177383  0.374044 -0.507787  \n",
       "b        0.291512 -0.444413 -0.441808 -0.177383  1.000000 -0.366087  0.333461  \n",
       "lstat   -0.496996  0.488676  0.543993  0.374044 -0.366087  1.000000 -0.737663  \n",
       "price    0.249929 -0.381626 -0.468536 -0.507787  0.333461 -0.737663  1.000000  "
      ]
     },
     "execution_count": 7,
     "metadata": {},
     "output_type": "execute_result"
    }
   ],
   "source": [
    "#Построим корреляционную матрицу\n",
    "\n",
    "corr_m = df[list].corr()\n",
    "corr_m"
   ]
  },
  {
   "cell_type": "code",
   "execution_count": 8,
   "id": "e73141df",
   "metadata": {
    "scrolled": true
   },
   "outputs": [
    {
     "name": "stdout",
     "output_type": "stream",
     "text": [
      "Признак \"rm\" : коэффициент корреляции 0.6954\n"
     ]
    },
    {
     "data": {
      "image/png": "[encoded data removed]",
      "text/plain": [
       "<Figure size 432x288 with 1 Axes>"
      ]
     },
     "metadata": {
      "needs_background": "light"
     },
     "output_type": "display_data"
    },
    {
     "name": "stdout",
     "output_type": "stream",
     "text": [
      "Признак \"ptratio\" : коэффициент корреляции -0.5078\n"
     ]
    },
    {
     "data": {
      "image/png": "[encoded data removed]",
      "text/plain": [
       "<Figure size 432x288 with 1 Axes>"
      ]
     },
     "metadata": {
      "needs_background": "light"
     },
     "output_type": "display_data"
    },
    {
     "name": "stdout",
     "output_type": "stream",
     "text": [
      "Признак \"lstat\" : коэффициент корреляции -0.7377\n"
     ]
    },
    {
     "data": {
      "image/png": "[encoded data removed]",
      "text/plain": [
       "<Figure size 432x288 with 1 Axes>"
      ]
     },
     "metadata": {
      "needs_background": "light"
     },
     "output_type": "display_data"
    }
   ],
   "source": [
    "#Отбираем факторы, которые в большей степени связаны с ценой\n",
    "\n",
    "for i in df.columns[:-1]:\n",
    "    curr_corr = df[i].corr(df.price).round(4)\n",
    "    if abs(curr_corr) >= 0.5:\n",
    "        print(\"Признак \\\"\" + i + \"\\\" : коэффициент корреляции \" + str(curr_corr))\n",
    "        sns.scatterplot(x=\"price\", y=i, data=df)\n",
    "        plt.show()"
   ]
  },
  {
   "cell_type": "markdown",
   "id": "b411f330",
   "metadata": {},
   "source": [
    "#### 2. Построить линейную модель регрессии с включением одного фактора (построить несколько моделей с включением 1 фактора и сравнить их коэффициенты детерминации) (на исходных данных)"
   ]
  },
  {
   "cell_type": "code",
   "execution_count": 9,
   "id": "ab009e8f",
   "metadata": {},
   "outputs": [],
   "source": [
    "from sklearn.linear_model import LinearRegression"
   ]
  },
  {
   "cell_type": "code",
   "execution_count": 12,
   "id": "85442323",
   "metadata": {},
   "outputs": [],
   "source": [
    "X1 = df[['rm']]\n",
    "Y1 = df[['price']]\n",
    "\n",
    "X2 = df[['ptratio']]\n",
    "Y2 = df[['price']]\n",
    "\n",
    "X3 = df[['rm']]\n",
    "Y3 = df[['lstat']]"
   ]
  },
  {
   "cell_type": "code",
   "execution_count": 15,
   "id": "2bfef007",
   "metadata": {},
   "outputs": [
    {
     "name": "stdout",
     "output_type": "stream",
     "text": [
      "0.4835\n"
     ]
    }
   ],
   "source": [
    "#model 1 Зависимость Price от Rm - среднего числа комнат жилого помещения\n",
    "reg = LinearRegression()\n",
    "model1 = reg.fit(X1, Y1)\n",
    "\n",
    "const1 = model1.intercept_.round(2)[0]\n",
    "coef1 = model1.coef_.round(2)[0]\n",
    "print(model1.score(X1,Y1).round(4))"
   ]
  },
  {
   "cell_type": "code",
   "execution_count": 16,
   "id": "7fd8bdc6",
   "metadata": {},
   "outputs": [
    {
     "name": "stdout",
     "output_type": "stream",
     "text": [
      "0.2578\n"
     ]
    }
   ],
   "source": [
    "#model 2 Зависимость Price от Ptratio - соотношение числа учеников к учителям\n",
    "reg = LinearRegression()\n",
    "model2 = reg.fit(X2, Y2)\n",
    "\n",
    "const2 = model2.intercept_.round(2)[0]\n",
    "coef2 = model2.coef_.round(2)[0]\n",
    "print(model2.score(X2,Y2).round(4))"
   ]
  },
  {
   "cell_type": "code",
   "execution_count": 17,
   "id": "00be106b",
   "metadata": {},
   "outputs": [
    {
     "name": "stdout",
     "output_type": "stream",
     "text": [
      "0.3768\n"
     ]
    }
   ],
   "source": [
    "#model 3 Зависимость Price от Lstat - % населения с низким социальным положением\n",
    "reg = LinearRegression()\n",
    "model3 = reg.fit(X3, Y3)\n",
    "\n",
    "const3 = model3.intercept_.round(2)[0]\n",
    "coef3 = model3.coef_.round(2)[0]\n",
    "print(model3.score(X3,Y3).round(4))"
   ]
  },
  {
   "cell_type": "markdown",
   "id": "85887def",
   "metadata": {},
   "source": [
    "Наиболее качественная модель регрессии Price от Rm с коэф. детерм. R2 = 0.4835"
   ]
  },
  {
   "cell_type": "markdown",
   "id": "680c283d",
   "metadata": {},
   "source": [
    "#### 3. Описать модель"
   ]
  },
  {
   "cell_type": "code",
   "execution_count": 18,
   "id": "d8f61b56",
   "metadata": {},
   "outputs": [
    {
     "name": "stdout",
     "output_type": "stream",
     "text": [
      "Константа= -34.67 , коэф. регрессии= [9.1]\n"
     ]
    }
   ],
   "source": [
    "#model 1 Зависимость Price от Rm\n",
    "\n",
    "print(\"Константа= \" + str(const1),\", коэф. регрессии= \" + str(coef1))"
   ]
  },
  {
   "cell_type": "markdown",
   "id": "524384dc",
   "metadata": {},
   "source": [
    "При увеличении на 1 фактора 'Rm', 'Price' увеличится на 9.1"
   ]
  },
  {
   "cell_type": "code",
   "execution_count": 19,
   "id": "ab17ec0d",
   "metadata": {},
   "outputs": [
    {
     "name": "stdout",
     "output_type": "stream",
     "text": [
      "Константа= 62.34 , коэф. регрессии= [-2.16]\n"
     ]
    }
   ],
   "source": [
    "#model 2 Зависимость Price от Ptratio\n",
    "\n",
    "print(\"Константа= \" + str(const2),\", коэф. регрессии= \" + str(coef2))"
   ]
  },
  {
   "cell_type": "markdown",
   "id": "2c8ef812",
   "metadata": {},
   "source": [
    "При увеличении на 1 фактора 'Ptratio', 'Price' уменьшится на 2.16"
   ]
  },
  {
   "cell_type": "code",
   "execution_count": 20,
   "id": "19335a19",
   "metadata": {},
   "outputs": [
    {
     "name": "stdout",
     "output_type": "stream",
     "text": [
      "Константа= 51.86 , коэф. регрессии= [-6.24]\n"
     ]
    }
   ],
   "source": [
    "#model 3 Зависимость Price от Lstat\n",
    "\n",
    "print(\"Константа= \" + str(const3),\", коэф. регрессии= \" + str(coef3))"
   ]
  },
  {
   "cell_type": "markdown",
   "id": "370af0f9",
   "metadata": {},
   "source": [
    "При увеличении на 1 фактора 'Lstat', 'Price' уменьшится на 6.24"
   ]
  },
  {
   "cell_type": "markdown",
   "id": "96fe254a",
   "metadata": {},
   "source": [
    "#### 4.Описать значение коэффициента детерминации (что значит этот показатель в вашей конкретной модели) и оценить значимость коэффициентов регрессии"
   ]
  },
  {
   "cell_type": "markdown",
   "id": "13944bbc",
   "metadata": {},
   "source": [
    "Коэффициент детерминации характеризует насколько точно описывается моделью изменчивость цены жилья\n",
    "\n",
    "в модели 1: от фактора 'Rm' - среднего числа комнат жилого помещения\n",
    "\n",
    "в модели 2: от показателя 'Ptratio' - соотношение численности учеников к учителям\n",
    "\n",
    "в модели 3: от показателя 'Lstat' - % населения с низким социальным положением\n",
    "\n",
    "\n",
    "Коэффициент детерминации 0.4835 модели 1 (Зависимость Price от Rm), что говорит о несильно высоком качестве модели (однако наиболее качественная модель из трех приведенных однофакторных моделей).\n",
    "\n",
    "Коэффициент детерминации 0.2578 модели 2 (Зависимость Price от Ptratio), что является низким показателем качества модели.\n",
    "\n",
    "Коэффициент детерминации 0.3768 модели 3 (Зависимость Price от Lstat) - невысокая точность модели."
   ]
  },
  {
   "cell_type": "code",
   "execution_count": 21,
   "id": "4bbf4276",
   "metadata": {},
   "outputs": [],
   "source": [
    "import statsmodels.api as sm"
   ]
  },
  {
   "cell_type": "code",
   "execution_count": 22,
   "id": "eb8d4b69",
   "metadata": {
    "scrolled": true
   },
   "outputs": [
    {
     "name": "stdout",
     "output_type": "stream",
     "text": [
      "                            OLS Regression Results                            \n",
      "==============================================================================\n",
      "Dep. Variable:                  price   R-squared:                       0.484\n",
      "Model:                            OLS   Adj. R-squared:                  0.483\n",
      "Method:                 Least Squares   F-statistic:                     471.8\n",
      "Date:                Tue, 15 Nov 2022   Prob (F-statistic):           2.49e-74\n",
      "Time:                        00:31:47   Log-Likelihood:                -1673.1\n",
      "No. Observations:                 506   AIC:                             3350.\n",
      "Df Residuals:                     504   BIC:                             3359.\n",
      "Df Model:                           1                                         \n",
      "Covariance Type:            nonrobust                                         \n",
      "==============================================================================\n",
      "                 coef    std err          t      P>|t|      [0.025      0.975]\n",
      "------------------------------------------------------------------------------\n",
      "const        -34.6706      2.650    -13.084      0.000     -39.877     -29.465\n",
      "rm             9.1021      0.419     21.722      0.000       8.279       9.925\n",
      "==============================================================================\n",
      "Omnibus:                      102.585   Durbin-Watson:                   0.684\n",
      "Prob(Omnibus):                  0.000   Jarque-Bera (JB):              612.449\n",
      "Skew:                           0.726   Prob(JB):                    1.02e-133\n",
      "Kurtosis:                       8.190   Cond. No.                         58.4\n",
      "==============================================================================\n",
      "\n",
      "Notes:\n",
      "[1] Standard Errors assume that the covariance matrix of the errors is correctly specified.\n"
     ]
    }
   ],
   "source": [
    "# Модель 1 - оценка значимости коэффициентов регрессии\n",
    "\n",
    "X1 = sm.add_constant(X1)\n",
    "model_Rm = sm.OLS(Y1, X1)\n",
    "results = model_Rm.fit()\n",
    "print(results.summary())"
   ]
  },
  {
   "cell_type": "markdown",
   "id": "22580e25",
   "metadata": {},
   "source": [
    "Поскольку p-value < 0.05 (уровня значимости), принимаем альтернативную гипотезу о том, что коэффициент при факторе \"Rm\" \n",
    "регресии значим."
   ]
  },
  {
   "cell_type": "code",
   "execution_count": 23,
   "id": "a293988d",
   "metadata": {
    "scrolled": true
   },
   "outputs": [
    {
     "name": "stdout",
     "output_type": "stream",
     "text": [
      "                            OLS Regression Results                            \n",
      "==============================================================================\n",
      "Dep. Variable:                  price   R-squared:                       0.258\n",
      "Model:                            OLS   Adj. R-squared:                  0.256\n",
      "Method:                 Least Squares   F-statistic:                     175.1\n",
      "Date:                Tue, 15 Nov 2022   Prob (F-statistic):           1.61e-34\n",
      "Time:                        00:31:47   Log-Likelihood:                -1764.8\n",
      "No. Observations:                 506   AIC:                             3534.\n",
      "Df Residuals:                     504   BIC:                             3542.\n",
      "Df Model:                           1                                         \n",
      "Covariance Type:            nonrobust                                         \n",
      "==============================================================================\n",
      "                 coef    std err          t      P>|t|      [0.025      0.975]\n",
      "------------------------------------------------------------------------------\n",
      "const         62.3446      3.029     20.581      0.000      56.393      68.296\n",
      "ptratio       -2.1572      0.163    -13.233      0.000      -2.477      -1.837\n",
      "==============================================================================\n",
      "Omnibus:                       92.924   Durbin-Watson:                   0.725\n",
      "Prob(Omnibus):                  0.000   Jarque-Bera (JB):              191.444\n",
      "Skew:                           1.001   Prob(JB):                     2.68e-42\n",
      "Kurtosis:                       5.252   Cond. No.                         160.\n",
      "==============================================================================\n",
      "\n",
      "Notes:\n",
      "[1] Standard Errors assume that the covariance matrix of the errors is correctly specified.\n"
     ]
    }
   ],
   "source": [
    "# Модель 2 - оценка значимости коэффициентов регрессии\n",
    "\n",
    "X2 = sm.add_constant(X2)\n",
    "model_Ptratio = sm.OLS(Y2, X2)\n",
    "results = model_Ptratio.fit()\n",
    "print(results.summary())"
   ]
  },
  {
   "cell_type": "markdown",
   "id": "d6ac73c7",
   "metadata": {},
   "source": [
    "Поскольку p-value < 0.05 (уровня значимости), принимаем альтернативную гипотезу о том, что коэффициент при факторе \"Ptratio\" \n",
    "регресии значим."
   ]
  },
  {
   "cell_type": "code",
   "execution_count": 24,
   "id": "751d776b",
   "metadata": {
    "scrolled": true
   },
   "outputs": [
    {
     "name": "stdout",
     "output_type": "stream",
     "text": [
      "                            OLS Regression Results                            \n",
      "==============================================================================\n",
      "Dep. Variable:                  lstat   R-squared:                       0.377\n",
      "Model:                            OLS   Adj. R-squared:                  0.376\n",
      "Method:                 Least Squares   F-statistic:                     304.7\n",
      "Date:                Tue, 15 Nov 2022   Prob (F-statistic):           1.03e-53\n",
      "Time:                        00:31:47   Log-Likelihood:                -1592.6\n",
      "No. Observations:                 506   AIC:                             3189.\n",
      "Df Residuals:                     504   BIC:                             3198.\n",
      "Df Model:                           1                                         \n",
      "Covariance Type:            nonrobust                                         \n",
      "==============================================================================\n",
      "                 coef    std err          t      P>|t|      [0.025      0.975]\n",
      "------------------------------------------------------------------------------\n",
      "const         51.8594      2.260     22.946      0.000      47.419      56.300\n",
      "rm            -6.2385      0.357    -17.455      0.000      -6.941      -5.536\n",
      "==============================================================================\n",
      "Omnibus:                       30.389   Durbin-Watson:                   0.773\n",
      "Prob(Omnibus):                  0.000   Jarque-Bera (JB):               34.968\n",
      "Skew:                           0.578   Prob(JB):                     2.55e-08\n",
      "Kurtosis:                       3.569   Cond. No.                         58.4\n",
      "==============================================================================\n",
      "\n",
      "Notes:\n",
      "[1] Standard Errors assume that the covariance matrix of the errors is correctly specified.\n"
     ]
    }
   ],
   "source": [
    "# Модель 3 - оценка значимости коэффициентов регрессии\n",
    "\n",
    "X3 = sm.add_constant(X3)\n",
    "model_Lstat = sm.OLS(Y3, X3)\n",
    "results = model_Lstat.fit()\n",
    "print(results.summary())"
   ]
  },
  {
   "cell_type": "markdown",
   "id": "8998a933",
   "metadata": {},
   "source": [
    "Поскольку p-value < 0.05 (уровня значимости), принимаем альтернативную гипотезу о том, что коэффициент при факторе \"Lstat\" регресии значим."
   ]
  },
  {
   "cell_type": "markdown",
   "id": "d0eb3a6b",
   "metadata": {},
   "source": [
    "#### 5. Построить модель множественной регрессии с несколькими факторами. Написать интерпретацию полученных коэффициентов регрессии, оценить значимость и коэффициент детерминации."
   ]
  },
  {
   "cell_type": "code",
   "execution_count": 25,
   "id": "9d5b40ae",
   "metadata": {},
   "outputs": [],
   "source": [
    "m = ['rm','lstat','ptratio']\n",
    "m\n",
    "X_m = df[m]"
   ]
  },
  {
   "cell_type": "code",
   "execution_count": 26,
   "id": "4623bb13",
   "metadata": {},
   "outputs": [],
   "source": [
    "k = df.columns[-1]\n",
    "Y_m = df[k]"
   ]
  },
  {
   "cell_type": "code",
   "execution_count": 27,
   "id": "3b368543",
   "metadata": {
    "scrolled": true
   },
   "outputs": [
    {
     "name": "stdout",
     "output_type": "stream",
     "text": [
      "                            OLS Regression Results                            \n",
      "==============================================================================\n",
      "Dep. Variable:                  price   R-squared:                       0.679\n",
      "Model:                            OLS   Adj. R-squared:                  0.677\n",
      "Method:                 Least Squares   F-statistic:                     353.3\n",
      "Date:                Tue, 15 Nov 2022   Prob (F-statistic):          2.69e-123\n",
      "Time:                        00:31:47   Log-Likelihood:                -1553.0\n",
      "No. Observations:                 506   AIC:                             3114.\n",
      "Df Residuals:                     502   BIC:                             3131.\n",
      "Df Model:                           3                                         \n",
      "Covariance Type:            nonrobust                                         \n",
      "==============================================================================\n",
      "                 coef    std err          t      P>|t|      [0.025      0.975]\n",
      "------------------------------------------------------------------------------\n",
      "const         18.5671      3.913      4.745      0.000      10.879      26.255\n",
      "rm             4.5154      0.426     10.603      0.000       3.679       5.352\n",
      "lstat         -0.5718      0.042    -13.540      0.000      -0.655      -0.489\n",
      "ptratio       -0.9307      0.118     -7.911      0.000      -1.162      -0.700\n",
      "==============================================================================\n",
      "Omnibus:                      202.072   Durbin-Watson:                   0.901\n",
      "Prob(Omnibus):                  0.000   Jarque-Bera (JB):             1022.153\n",
      "Skew:                           1.700   Prob(JB):                    1.10e-222\n",
      "Kurtosis:                       9.076   Cond. No.                         402.\n",
      "==============================================================================\n",
      "\n",
      "Notes:\n",
      "[1] Standard Errors assume that the covariance matrix of the errors is correctly specified.\n"
     ]
    }
   ],
   "source": [
    "# Множественная модель регрессии с переменными 'rm','lstat','ptratio'\n",
    "\n",
    "X_m = sm.add_constant(X_m)\n",
    "model_m = sm.OLS(Y_m, X_m)\n",
    "results = model_m.fit()\n",
    "print(results.summary())"
   ]
  },
  {
   "cell_type": "markdown",
   "id": "a9abe6b6",
   "metadata": {},
   "source": [
    "Все коэффициенты модели значимы (p-value = 0.000), модель имеет среднее качество (коэф-т детерминации 0.679) и более высокое относительно однофакторных моделей.\n",
    "\n",
    "Коэффициенты могут быть интерпретированы следующим образом:\n",
    "\n",
    "- При увеличении фактора 'Rm' (числа комнат) на 1 цена жилья увеличиться на 4.51 при неизменности остальных факторов.\n",
    "\n",
    "- При увеличении фактора 'Lstat' (% населения с низким соц. положением) на 1 цена жилья уменьшится на 0.57 при неизменности остальных факторов\n",
    "\n",
    "- При увеличении фактора 'Ptratio' (отношения численности учащихся к учителям) на 1 цена жилья уменьшится на 0.93 при неизменности остальных факторов"
   ]
  },
  {
   "cell_type": "code",
   "execution_count": 28,
   "id": "07e4ef35",
   "metadata": {},
   "outputs": [
    {
     "data": {
      "text/html": [
       "<div>\n",
       "<style scoped>\n",
       "    .dataframe tbody tr th:only-of-type {\n",
       "        vertical-align: middle;\n",
       "    }\n",
       "\n",
       "    .dataframe tbody tr th {\n",
       "        vertical-align: top;\n",
       "    }\n",
       "\n",
       "    .dataframe thead th {\n",
       "        text-align: right;\n",
       "    }\n",
       "</style>\n",
       "<table border=\"1\" class=\"dataframe\">\n",
       "  <thead>\n",
       "    <tr style=\"text-align: right;\">\n",
       "      <th></th>\n",
       "      <th>const</th>\n",
       "      <th>rm</th>\n",
       "      <th>lstat</th>\n",
       "      <th>ptratio</th>\n",
       "    </tr>\n",
       "  </thead>\n",
       "  <tbody>\n",
       "    <tr>\n",
       "      <th>const</th>\n",
       "      <td>NaN</td>\n",
       "      <td>NaN</td>\n",
       "      <td>NaN</td>\n",
       "      <td>NaN</td>\n",
       "    </tr>\n",
       "    <tr>\n",
       "      <th>rm</th>\n",
       "      <td>NaN</td>\n",
       "      <td>1.000000</td>\n",
       "      <td>-0.613808</td>\n",
       "      <td>-0.355501</td>\n",
       "    </tr>\n",
       "    <tr>\n",
       "      <th>lstat</th>\n",
       "      <td>NaN</td>\n",
       "      <td>-0.613808</td>\n",
       "      <td>1.000000</td>\n",
       "      <td>0.374044</td>\n",
       "    </tr>\n",
       "    <tr>\n",
       "      <th>ptratio</th>\n",
       "      <td>NaN</td>\n",
       "      <td>-0.355501</td>\n",
       "      <td>0.374044</td>\n",
       "      <td>1.000000</td>\n",
       "    </tr>\n",
       "  </tbody>\n",
       "</table>\n",
       "</div>"
      ],
      "text/plain": [
       "         const        rm     lstat   ptratio\n",
       "const      NaN       NaN       NaN       NaN\n",
       "rm         NaN  1.000000 -0.613808 -0.355501\n",
       "lstat      NaN -0.613808  1.000000  0.374044\n",
       "ptratio    NaN -0.355501  0.374044  1.000000"
      ]
     },
     "execution_count": 28,
     "metadata": {},
     "output_type": "execute_result"
    }
   ],
   "source": [
    "# Между переменными 'Rm' и 'Lstat' есть связь (R = -0.61), \n",
    "# что может вызывать мультиколлинеарность в модели и сделать R^2 завышенным\n",
    "\n",
    "X_m.corr()"
   ]
  },
  {
   "cell_type": "code",
   "execution_count": 29,
   "id": "0560b957",
   "metadata": {},
   "outputs": [],
   "source": [
    "# Для регрессии оставим показатель 'lstat', поскольку он имел более высокий коэффициент корреляции с 'prices'\n",
    "\n",
    "q = ['lstat','ptratio']\n",
    "q\n",
    "X_q = df[q]"
   ]
  },
  {
   "cell_type": "code",
   "execution_count": 30,
   "id": "31194e28",
   "metadata": {},
   "outputs": [
    {
     "name": "stdout",
     "output_type": "stream",
     "text": [
      "                            OLS Regression Results                            \n",
      "==============================================================================\n",
      "Dep. Variable:                  price   R-squared:                       0.607\n",
      "Model:                            OLS   Adj. R-squared:                  0.605\n",
      "Method:                 Least Squares   F-statistic:                     387.9\n",
      "Date:                Tue, 15 Nov 2022   Prob (F-statistic):          1.22e-102\n",
      "Time:                        00:31:48   Log-Likelihood:                -1604.2\n",
      "No. Observations:                 506   AIC:                             3214.\n",
      "Df Residuals:                     503   BIC:                             3227.\n",
      "Df Model:                           2                                         \n",
      "Covariance Type:            nonrobust                                         \n",
      "==============================================================================\n",
      "                 coef    std err          t      P>|t|      [0.025      0.975]\n",
      "------------------------------------------------------------------------------\n",
      "const         54.0468      2.242     24.105      0.000      49.642      58.452\n",
      "lstat         -0.8202      0.039    -21.120      0.000      -0.896      -0.744\n",
      "ptratio       -1.1453      0.128     -8.941      0.000      -1.397      -0.894\n",
      "==============================================================================\n",
      "Omnibus:                      150.452   Durbin-Watson:                   0.994\n",
      "Prob(Omnibus):                  0.000   Jarque-Bera (JB):              403.510\n",
      "Skew:                           1.462   Prob(JB):                     2.39e-88\n",
      "Kurtosis:                       6.253   Cond. No.                         201.\n",
      "==============================================================================\n",
      "\n",
      "Notes:\n",
      "[1] Standard Errors assume that the covariance matrix of the errors is correctly specified.\n"
     ]
    }
   ],
   "source": [
    "# Множественная модель регрессии с переменными 'lstat','ptratio'\n",
    "\n",
    "X_q = sm.add_constant(X_q)\n",
    "model_q = sm.OLS(Y_m, X_q)\n",
    "results = model_q.fit()\n",
    "print(results.summary())"
   ]
  },
  {
   "cell_type": "markdown",
   "id": "ea23d955",
   "metadata": {},
   "source": [
    "Все коэффициенты модели значимы (p-value = 0.000), модель имеет приемлимое качество (коэф-т детерминации 0.6)"
   ]
  },
  {
   "cell_type": "markdown",
   "id": "5bd6c9a9",
   "metadata": {},
   "source": [
    "#### 6. Можно ли улучшить полученную модель множественной регрессии? (например, посмотреть распределения независимых переменных и, возможно, провести какие-то преобразования с переменными)"
   ]
  },
  {
   "cell_type": "code",
   "execution_count": 40,
   "id": "e8d177be",
   "metadata": {
    "scrolled": true
   },
   "outputs": [
    {
     "name": "stdout",
     "output_type": "stream",
     "text": [
      "Признак 'rm'\n"
     ]
    },
    {
     "data": {
      "image/png": "[encoded data removed]",
      "text/plain": [
       "<Figure size 432x288 with 1 Axes>"
      ]
     },
     "metadata": {
      "needs_background": "light"
     },
     "output_type": "display_data"
    },
    {
     "name": "stdout",
     "output_type": "stream",
     "text": [
      "Признак 'lstat'\n"
     ]
    },
    {
     "data": {
      "image/png": "[encoded data removed]",
      "text/plain": [
       "<Figure size 432x288 with 1 Axes>"
      ]
     },
     "metadata": {
      "needs_background": "light"
     },
     "output_type": "display_data"
    },
    {
     "name": "stdout",
     "output_type": "stream",
     "text": [
      "Признак 'ptratio'\n"
     ]
    },
    {
     "data": {
      "image/png": "[encoded data removed]",
      "text/plain": [
       "<Figure size 432x288 with 1 Axes>"
      ]
     },
     "metadata": {
      "needs_background": "light"
     },
     "output_type": "display_data"
    }
   ],
   "source": [
    "m = ['rm','lstat','ptratio']\n",
    "for i in m:\n",
    "        print(\"Признак '\" + i + \"'\")\n",
    "        df[i].hist()\n",
    "        plt.show()"
   ]
  },
  {
   "cell_type": "code",
   "execution_count": 44,
   "id": "ce2ccb13",
   "metadata": {},
   "outputs": [],
   "source": [
    "# Признак 'lstat' судя по графику выше можеть иметь логнормальное распределение\n",
    "# Возьмем логарифмы по этому показателю, оставим в модели только следующие НП: 'ptratio' и логарифм по 'lstat'\n",
    "\n",
    "df['lstat_log']=np.log(df.lstat)\n",
    "\n",
    "p = ['lstat_log','ptratio']\n",
    "X_log = df[p]"
   ]
  },
  {
   "cell_type": "code",
   "execution_count": 46,
   "id": "19fe939c",
   "metadata": {},
   "outputs": [
    {
     "data": {
      "text/html": [
       "<div>\n",
       "<style scoped>\n",
       "    .dataframe tbody tr th:only-of-type {\n",
       "        vertical-align: middle;\n",
       "    }\n",
       "\n",
       "    .dataframe tbody tr th {\n",
       "        vertical-align: top;\n",
       "    }\n",
       "\n",
       "    .dataframe thead th {\n",
       "        text-align: right;\n",
       "    }\n",
       "</style>\n",
       "<table border=\"1\" class=\"dataframe\">\n",
       "  <thead>\n",
       "    <tr style=\"text-align: right;\">\n",
       "      <th></th>\n",
       "      <th>lstat_log</th>\n",
       "      <th>ptratio</th>\n",
       "    </tr>\n",
       "  </thead>\n",
       "  <tbody>\n",
       "    <tr>\n",
       "      <th>0</th>\n",
       "      <td>1.605430</td>\n",
       "      <td>15.3</td>\n",
       "    </tr>\n",
       "    <tr>\n",
       "      <th>1</th>\n",
       "      <td>2.212660</td>\n",
       "      <td>17.8</td>\n",
       "    </tr>\n",
       "    <tr>\n",
       "      <th>2</th>\n",
       "      <td>1.393766</td>\n",
       "      <td>17.8</td>\n",
       "    </tr>\n",
       "  </tbody>\n",
       "</table>\n",
       "</div>"
      ],
      "text/plain": [
       "   lstat_log  ptratio\n",
       "0   1.605430     15.3\n",
       "1   2.212660     17.8\n",
       "2   1.393766     17.8"
      ]
     },
     "execution_count": 46,
     "metadata": {},
     "output_type": "execute_result"
    }
   ],
   "source": [
    "X_log.head(3)"
   ]
  },
  {
   "cell_type": "code",
   "execution_count": 47,
   "id": "6570f4c2",
   "metadata": {},
   "outputs": [
    {
     "name": "stdout",
     "output_type": "stream",
     "text": [
      "                            OLS Regression Results                            \n",
      "==============================================================================\n",
      "Dep. Variable:                  price   R-squared:                       0.699\n",
      "Model:                            OLS   Adj. R-squared:                  0.698\n",
      "Method:                 Least Squares   F-statistic:                     584.1\n",
      "Date:                Tue, 15 Nov 2022   Prob (F-statistic):          7.22e-132\n",
      "Time:                        00:46:35   Log-Likelihood:                -1536.5\n",
      "No. Observations:                 506   AIC:                             3079.\n",
      "Df Residuals:                     503   BIC:                             3092.\n",
      "Df Model:                           2                                         \n",
      "Covariance Type:            nonrobust                                         \n",
      "==============================================================================\n",
      "                 coef    std err          t      P>|t|      [0.025      0.975]\n",
      "------------------------------------------------------------------------------\n",
      "const         64.9709      1.933     33.603      0.000      61.172      68.770\n",
      "lstat_log    -11.1850      0.412    -27.152      0.000     -11.994     -10.376\n",
      "ptratio       -0.8625      0.114     -7.544      0.000      -1.087      -0.638\n",
      "==============================================================================\n",
      "Omnibus:                      145.868   Durbin-Watson:                   0.999\n",
      "Prob(Omnibus):                  0.000   Jarque-Bera (JB):              481.264\n",
      "Skew:                           1.325   Prob(JB):                    3.13e-105\n",
      "Kurtosis:                       6.976   Cond. No.                         162.\n",
      "==============================================================================\n",
      "\n",
      "Notes:\n",
      "[1] Standard Errors assume that the covariance matrix of the errors is correctly specified.\n"
     ]
    }
   ],
   "source": [
    "# Множественная модель регрессии с переменными log('lstat'),'ptratio'\n",
    "\n",
    "X_log = sm.add_constant(X_log)\n",
    "model_log = sm.OLS(Y_m, X_log)\n",
    "results = model_log.fit()\n",
    "print(results.summary())"
   ]
  },
  {
   "cell_type": "markdown",
   "id": "5164f763",
   "metadata": {},
   "source": [
    "Все коэффициенты модели значимы (p-value = 0.000), модель имеет более высокое качество после взятия логарифма по 'lstat' (коэф-т детерминации 0.69)"
   ]
  }
 ],
 "metadata": {
  "kernelspec": {
   "display_name": "Python 3 (ipykernel)",
   "language": "python",
   "name": "python3"
  },
  "language_info": {
   "codemirror_mode": {
    "name": "ipython",
    "version": 3
   },
   "file_extension": ".py",
   "mimetype": "text/x-python",
   "name": "python",
   "nbconvert_exporter": "python",
   "pygments_lexer": "ipython3",
   "version": "3.9.12"
  }
 },
 "nbformat": 4,
 "nbformat_minor": 5
}

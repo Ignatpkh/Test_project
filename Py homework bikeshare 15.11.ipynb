{
 "cells": [
  {
   "cell_type": "markdown",
   "id": "f6090d62",
   "metadata": {},
   "source": [
    "Игнат Поух"
   ]
  },
  {
   "cell_type": "code",
   "execution_count": 32,
   "id": "da36e7fa",
   "metadata": {},
   "outputs": [],
   "source": [
    "import pandas as pd\n",
    "import numpy as np\n",
    "import matplotlib.pyplot as plt\n",
    "import seaborn as sns\n",
    "from scipy.stats import kurtosis\n",
    "from scipy.stats import skew\n",
    "from scipy import stats\n",
    "import scipy.special as sps\n",
    "import warnings"
   ]
  },
  {
   "cell_type": "code",
   "execution_count": 33,
   "id": "0ca0d923",
   "metadata": {},
   "outputs": [],
   "source": [
    "bikeshare = pd.read_csv(\"bikeshare.csv\")"
   ]
  },
  {
   "cell_type": "code",
   "execution_count": 34,
   "id": "a7bfc869",
   "metadata": {},
   "outputs": [
    {
     "data": {
      "text/html": [
       "<div>\n",
       "<style scoped>\n",
       "    .dataframe tbody tr th:only-of-type {\n",
       "        vertical-align: middle;\n",
       "    }\n",
       "\n",
       "    .dataframe tbody tr th {\n",
       "        vertical-align: top;\n",
       "    }\n",
       "\n",
       "    .dataframe thead th {\n",
       "        text-align: right;\n",
       "    }\n",
       "</style>\n",
       "<table border=\"1\" class=\"dataframe\">\n",
       "  <thead>\n",
       "    <tr style=\"text-align: right;\">\n",
       "      <th></th>\n",
       "      <th>datetime</th>\n",
       "      <th>season</th>\n",
       "      <th>holiday</th>\n",
       "      <th>workingday</th>\n",
       "      <th>weather</th>\n",
       "      <th>temp</th>\n",
       "      <th>atemp</th>\n",
       "      <th>humidity</th>\n",
       "      <th>windspeed</th>\n",
       "      <th>casual</th>\n",
       "      <th>registered</th>\n",
       "      <th>count</th>\n",
       "    </tr>\n",
       "  </thead>\n",
       "  <tbody>\n",
       "    <tr>\n",
       "      <th>0</th>\n",
       "      <td>2011-01-01 00:00:00</td>\n",
       "      <td>1</td>\n",
       "      <td>0</td>\n",
       "      <td>0</td>\n",
       "      <td>1</td>\n",
       "      <td>9.84</td>\n",
       "      <td>14.395</td>\n",
       "      <td>81</td>\n",
       "      <td>0.0</td>\n",
       "      <td>3</td>\n",
       "      <td>13</td>\n",
       "      <td>16</td>\n",
       "    </tr>\n",
       "    <tr>\n",
       "      <th>1</th>\n",
       "      <td>2011-01-01 01:00:00</td>\n",
       "      <td>1</td>\n",
       "      <td>0</td>\n",
       "      <td>0</td>\n",
       "      <td>1</td>\n",
       "      <td>9.02</td>\n",
       "      <td>13.635</td>\n",
       "      <td>80</td>\n",
       "      <td>0.0</td>\n",
       "      <td>8</td>\n",
       "      <td>32</td>\n",
       "      <td>40</td>\n",
       "    </tr>\n",
       "  </tbody>\n",
       "</table>\n",
       "</div>"
      ],
      "text/plain": [
       "              datetime  season  holiday  workingday  weather  temp   atemp  \\\n",
       "0  2011-01-01 00:00:00       1        0           0        1  9.84  14.395   \n",
       "1  2011-01-01 01:00:00       1        0           0        1  9.02  13.635   \n",
       "\n",
       "   humidity  windspeed  casual  registered  count  \n",
       "0        81        0.0       3          13     16  \n",
       "1        80        0.0       8          32     40  "
      ]
     },
     "execution_count": 34,
     "metadata": {},
     "output_type": "execute_result"
    }
   ],
   "source": [
    "bikeshare.head(2)"
   ]
  },
  {
   "cell_type": "code",
   "execution_count": 35,
   "id": "03d77bd5",
   "metadata": {
    "collapsed": true
   },
   "outputs": [
    {
     "name": "stdout",
     "output_type": "stream",
     "text": [
      "<class 'pandas.core.frame.DataFrame'>\n",
      "RangeIndex: 10886 entries, 0 to 10885\n",
      "Data columns (total 12 columns):\n",
      " #   Column      Non-Null Count  Dtype  \n",
      "---  ------      --------------  -----  \n",
      " 0   datetime    10886 non-null  object \n",
      " 1   season      10886 non-null  int64  \n",
      " 2   holiday     10886 non-null  int64  \n",
      " 3   workingday  10886 non-null  int64  \n",
      " 4   weather     10886 non-null  int64  \n",
      " 5   temp        10886 non-null  float64\n",
      " 6   atemp       10886 non-null  float64\n",
      " 7   humidity    10886 non-null  int64  \n",
      " 8   windspeed   10886 non-null  float64\n",
      " 9   casual      10886 non-null  int64  \n",
      " 10  registered  10886 non-null  int64  \n",
      " 11  count       10886 non-null  int64  \n",
      "dtypes: float64(3), int64(8), object(1)\n",
      "memory usage: 1020.7+ KB\n"
     ]
    }
   ],
   "source": [
    "bikeshare.info()"
   ]
  },
  {
   "cell_type": "markdown",
   "id": "3e3e1489",
   "metadata": {},
   "source": [
    "#### Для столбцов (temp, windspeed) в датасете bikeshare найдите среднее, дисперсию, 50, 75 и 90, 99 перцентили, моду. \n",
    "#### Какие выводы можно сделать?"
   ]
  },
  {
   "cell_type": "code",
   "execution_count": 58,
   "id": "d157c2ce",
   "metadata": {},
   "outputs": [
    {
     "data": {
      "text/plain": [
       "mean    20.23086\n",
       "std      7.79159\n",
       "50%     20.50000\n",
       "75%     26.24000\n",
       "Name: temp, dtype: float64"
      ]
     },
     "execution_count": 58,
     "metadata": {},
     "output_type": "execute_result"
    }
   ],
   "source": [
    "# temp\n",
    "\n",
    "bikeshare.temp.describe()[[1,2,5,6]]"
   ]
  },
  {
   "cell_type": "code",
   "execution_count": 74,
   "id": "2e69c662",
   "metadata": {
    "scrolled": true
   },
   "outputs": [
    {
     "name": "stdout",
     "output_type": "stream",
     "text": [
      "90% percentile = 30.34\n",
      "99% percentile = 36.08\n"
     ]
    }
   ],
   "source": [
    "print(\"90% percentile = \" + str(np.percentile(bikeshare.temp, 90)))\n",
    "print(\"99% percentile = \" + str(np.percentile(bikeshare.temp, 99)))"
   ]
  },
  {
   "cell_type": "code",
   "execution_count": 78,
   "id": "23a6c741",
   "metadata": {},
   "outputs": [
    {
     "data": {
      "text/plain": [
       "0    14.76\n",
       "Name: temp, dtype: float64"
      ]
     },
     "execution_count": 78,
     "metadata": {},
     "output_type": "execute_result"
    }
   ],
   "source": [
    "bikeshare.temp.mode()"
   ]
  },
  {
   "cell_type": "code",
   "execution_count": 83,
   "id": "b38da0af",
   "metadata": {
    "scrolled": true
   },
   "outputs": [
    {
     "data": {
      "text/plain": [
       "14.76    467\n",
       "26.24    453\n",
       "28.70    427\n",
       "13.94    413\n",
       "18.86    406\n",
       "Name: temp, dtype: int64"
      ]
     },
     "execution_count": 83,
     "metadata": {},
     "output_type": "execute_result"
    }
   ],
   "source": [
    "bikeshare.temp.value_counts().head(5)"
   ]
  },
  {
   "cell_type": "markdown",
   "id": "573030ca",
   "metadata": {},
   "source": [
    "Среднее и медиана показателя 'temp' примерно одинаковы (приблизительно = 20). \n",
    "\n",
    "Мода также не слишком сильно отклоняется от среднего значения (14.76)\n",
    "\n",
    "99% наблюдений располагаются в пределах 3 стандартных отклонений. По данным признакам можем предположить, что распределение данных нормальное."
   ]
  },
  {
   "cell_type": "code",
   "execution_count": 56,
   "id": "4844ebbf",
   "metadata": {},
   "outputs": [
    {
     "data": {
      "text/plain": [
       "mean    12.799395\n",
       "std      8.164537\n",
       "50%     12.998000\n",
       "75%     16.997900\n",
       "Name: windspeed, dtype: float64"
      ]
     },
     "execution_count": 56,
     "metadata": {},
     "output_type": "execute_result"
    }
   ],
   "source": [
    "# windspeed\n",
    "\n",
    "bikeshare.windspeed.describe().loc[['mean','std','50%','75%']]"
   ]
  },
  {
   "cell_type": "code",
   "execution_count": 79,
   "id": "5515b5ee",
   "metadata": {
    "scrolled": true
   },
   "outputs": [
    {
     "name": "stdout",
     "output_type": "stream",
     "text": [
      "90% percentile = 23.9994\n",
      "99% percentile = 35.0008\n"
     ]
    }
   ],
   "source": [
    "print(\"90% percentile = \" + str(np.percentile(bikeshare.windspeed, 90)))\n",
    "print(\"99% percentile = \" + str(np.percentile(bikeshare.windspeed, 99)))"
   ]
  },
  {
   "cell_type": "code",
   "execution_count": 80,
   "id": "fc6c6402",
   "metadata": {},
   "outputs": [
    {
     "data": {
      "text/plain": [
       "0    0.0\n",
       "Name: windspeed, dtype: float64"
      ]
     },
     "execution_count": 80,
     "metadata": {},
     "output_type": "execute_result"
    }
   ],
   "source": [
    "bikeshare.windspeed.mode()"
   ]
  },
  {
   "cell_type": "code",
   "execution_count": 82,
   "id": "ca1f4df4",
   "metadata": {},
   "outputs": [
    {
     "data": {
      "text/plain": [
       "0.0000     1313\n",
       "8.9981     1120\n",
       "11.0014    1057\n",
       "12.9980    1042\n",
       "7.0015     1034\n",
       "Name: windspeed, dtype: int64"
      ]
     },
     "execution_count": 82,
     "metadata": {},
     "output_type": "execute_result"
    }
   ],
   "source": [
    "bikeshare.windspeed.value_counts().head(5)"
   ]
  },
  {
   "cell_type": "markdown",
   "id": "ee71426d",
   "metadata": {},
   "source": [
    "Среднее и медиана показателя 'windspeed' примерно одинаковы (приблизительно = 12).\n",
    "\n",
    "99% наблюдений располагаются в пределах 3 стандартных отклонений. По этим признакам распределение данных можеть быть нормальным.\n",
    "\n",
    "Но мода сильно отличается от среднего и медианы (мода 0, среднее/медиана = 12). Распределение может быть ассиметричным, а значит ненормальным."
   ]
  },
  {
   "cell_type": "markdown",
   "id": "61ba2dd8",
   "metadata": {},
   "source": [
    "#### Постройте гистограммы распределения в датасете при помощи метода датафрейма hist(). \n",
    "#### При необходимости добавьте логарифмированную ось для каких-то переменных (параметр log) - преобразование переменной.Стало ли распределение более симметричным?"
   ]
  },
  {
   "cell_type": "code",
   "execution_count": 85,
   "id": "e249a190",
   "metadata": {},
   "outputs": [
    {
     "data": {
      "text/plain": [
       "<AxesSubplot:>"
      ]
     },
     "execution_count": 85,
     "metadata": {},
     "output_type": "execute_result"
    },
    {
     "data": {
      "image/png": "[encoded data removed]",
      "text/plain": [
       "<Figure size 432x288 with 1 Axes>"
      ]
     },
     "metadata": {
      "needs_background": "light"
     },
     "output_type": "display_data"
    }
   ],
   "source": [
    "bikeshare.temp.hist(figsize = (6,4))"
   ]
  },
  {
   "cell_type": "code",
   "execution_count": 86,
   "id": "9cf44ef9",
   "metadata": {
    "scrolled": true
   },
   "outputs": [
    {
     "data": {
      "text/plain": [
       "<AxesSubplot:>"
      ]
     },
     "execution_count": 86,
     "metadata": {},
     "output_type": "execute_result"
    },
    {
     "data": {
      "image/png": "[encoded data removed]",
      "text/plain": [
       "<Figure size 432x288 with 1 Axes>"
      ]
     },
     "metadata": {
      "needs_background": "light"
     },
     "output_type": "display_data"
    }
   ],
   "source": [
    "bikeshare.windspeed.hist(figsize = (6,4))"
   ]
  },
  {
   "cell_type": "code",
   "execution_count": 87,
   "id": "279b3e20",
   "metadata": {},
   "outputs": [
    {
     "data": {
      "text/plain": [
       "0.5886853963635482"
      ]
     },
     "execution_count": 87,
     "metadata": {},
     "output_type": "execute_result"
    }
   ],
   "source": [
    "# Ассиметрия (д.б. от -0.5 до 0.5)\n",
    "skew(bikeshare.windspeed)"
   ]
  },
  {
   "cell_type": "code",
   "execution_count": 115,
   "id": "4f08a1af",
   "metadata": {},
   "outputs": [
    {
     "data": {
      "text/plain": [
       "<AxesSubplot:>"
      ]
     },
     "execution_count": 115,
     "metadata": {},
     "output_type": "execute_result"
    },
    {
     "data": {
      "image/png": "[encoded data removed]",
      "text/plain": [
       "<Figure size 432x288 with 1 Axes>"
      ]
     },
     "metadata": {
      "needs_background": "light"
     },
     "output_type": "display_data"
    }
   ],
   "source": [
    "bikeshare.windspeed.hist(figsize = (6,4), log = True)"
   ]
  },
  {
   "cell_type": "markdown",
   "id": "aead645e",
   "metadata": {},
   "source": [
    "После логарифмизации визуально ассиметрия уменьшилась, но при средней равной приблизительно 12 наблюдается перекос по наблюдениям со значениями 15-50 (распределение на графике на участке вправо от средней)"
   ]
  },
  {
   "cell_type": "markdown",
   "id": "38053a57",
   "metadata": {},
   "source": [
    "#### Постройте симметричный доверительный интервал для метрики temp при доверительной вероятности 0.95. Какие выводы об аномальных событиях можно сделать?\n",
    "#### Найдите количество значений, выходящих за три сигмы этой метрики."
   ]
  },
  {
   "cell_type": "code",
   "execution_count": 116,
   "id": "c8add4d6",
   "metadata": {},
   "outputs": [],
   "source": [
    "def my_norm_confidence(df=bikeshare, column = \"temp\", alpha = 0.95):\n",
    "    interval = stats.norm.interval(alpha, loc=df[column].mean(), scale=df[column].std())\n",
    "    return interval"
   ]
  },
  {
   "cell_type": "code",
   "execution_count": 117,
   "id": "b9dac627",
   "metadata": {},
   "outputs": [
    {
     "name": "stdout",
     "output_type": "stream",
     "text": [
      "(4.959624343428603, 35.502095296475744)\n"
     ]
    }
   ],
   "source": [
    "confidence = my_norm_confidence()\n",
    "print(confidence)"
   ]
  },
  {
   "cell_type": "code",
   "execution_count": 118,
   "id": "11adda02",
   "metadata": {
    "scrolled": true
   },
   "outputs": [
    {
     "data": {
      "text/plain": [
       "Text(0.5, 1.0, 'Доверительный интервал')"
      ]
     },
     "execution_count": 118,
     "metadata": {},
     "output_type": "execute_result"
    },
    {
     "data": {
      "image/png": "[encoded data removed]",
      "text/plain": [
       "<Figure size 432x288 with 1 Axes>"
      ]
     },
     "metadata": {
      "needs_background": "light"
     },
     "output_type": "display_data"
    }
   ],
   "source": [
    "bikeshare.temp.plot()\n",
    "plt.axhline(y=confidence[1], color=\"g\", linestyle=\"-\")\n",
    "plt.axhline(y=confidence[0], color=\"r\", linestyle=\"-\")\n",
    "plt.title(\"Доверительный интервал\")"
   ]
  },
  {
   "cell_type": "code",
   "execution_count": 134,
   "id": "d51dd691",
   "metadata": {},
   "outputs": [
    {
     "data": {
      "text/plain": [
       "count    10886.00000\n",
       "mean        20.23086\n",
       "std          7.79159\n",
       "min          0.82000\n",
       "25%         13.94000\n",
       "50%         20.50000\n",
       "75%         26.24000\n",
       "max         41.00000\n",
       "Name: temp, dtype: float64"
      ]
     },
     "execution_count": 134,
     "metadata": {},
     "output_type": "execute_result"
    }
   ],
   "source": [
    "bikeshare.temp.describe()"
   ]
  },
  {
   "cell_type": "code",
   "execution_count": 133,
   "id": "07566a6b",
   "metadata": {},
   "outputs": [
    {
     "data": {
      "text/plain": [
       "-3.1439097120103447"
      ]
     },
     "execution_count": 133,
     "metadata": {},
     "output_type": "execute_result"
    }
   ],
   "source": [
    "# По наблюдаемым данным, значения выходящие за рамки 3 сигм этой метрики должны быть < -3.14\n",
    "# Если значение min по 'temp' - 0.82, значит значений выходящих за рамки 3 сигм нет\n",
    "\n",
    "q = bikeshare.temp.mean()-3*bikeshare.temp.std()\n",
    "q"
   ]
  },
  {
   "cell_type": "code",
   "execution_count": 135,
   "id": "02958d57",
   "metadata": {},
   "outputs": [
    {
     "data": {
      "text/plain": [
       "43.605629351914686"
      ]
     },
     "execution_count": 135,
     "metadata": {},
     "output_type": "execute_result"
    }
   ],
   "source": [
    "# По наблюдаемым данным, значения выходящие за рамки 3 сигм этой метрики должны быть > 43.6\n",
    "# Если значение max по 'temp' - 41, значит значений выходящих за рамки 3 сигм нет\n",
    "\n",
    "k = bikeshare.temp.mean()+3*bikeshare.temp.std()\n",
    "k"
   ]
  }
 ],
 "metadata": {
  "kernelspec": {
   "display_name": "Python 3 (ipykernel)",
   "language": "python",
   "name": "python3"
  },
  "language_info": {
   "codemirror_mode": {
    "name": "ipython",
    "version": 3
   },
   "file_extension": ".py",
   "mimetype": "text/x-python",
   "name": "python",
   "nbconvert_exporter": "python",
   "pygments_lexer": "ipython3",
   "version": "3.9.12"
  }
 },
 "nbformat": 4,
 "nbformat_minor": 5
}
